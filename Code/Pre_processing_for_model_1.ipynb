{
  "nbformat": 4,
  "nbformat_minor": 0,
  "metadata": {
    "colab": {
      "provenance": [],
      "include_colab_link": true
    },
    "kernelspec": {
      "name": "python3",
      "display_name": "Python 3"
    },
    "language_info": {
      "name": "python"
    }
  },
  "cells": [
    {
      "cell_type": "markdown",
      "metadata": {
        "id": "view-in-github",
        "colab_type": "text"
      },
      "source": [
        "<a href=\"https://colab.research.google.com/github/HuyenTrang457/MCM/blob/main/Pre_processing_for_model_1.ipynb\" target=\"_parent\"><img src=\"https://colab.research.google.com/assets/colab-badge.svg\" alt=\"Open In Colab\"/></a>"
      ]
    },
    {
      "cell_type": "code",
      "source": [
        "import seaborn as sns\n",
        "import matplotlib.pyplot as plt\n",
        "import os\n",
        "import pandas as pd\n",
        "from sklearn.preprocessing import StandardScaler\n",
        "import numpy as np\n"
      ],
      "metadata": {
        "id": "U25IBf0diSxK"
      },
      "execution_count": null,
      "outputs": []
    },
    {
      "cell_type": "markdown",
      "source": [
        "Clean Data:\n",
        "\n",
        "1. Dùng biểu đồ box_plot để phát hiện các khoảng chứ outlier và lọc outlier.\n",
        "2. Transform các biến về dạng phù hợp và chuẩn hóa\n",
        "3. Chuẩn hóa các biến liên tục\n",
        "4. Chuẩn hóa các biến liên tục\n",
        "5. Xử lý các giá trị chuỗi trong p1_score và p2_score\n",
        "\n"
      ],
      "metadata": {
        "id": "4wC5fmoQiTGQ"
      }
    },
    {
      "cell_type": "code",
      "execution_count": null,
      "metadata": {
        "colab": {
          "base_uri": "https://localhost:8080/",
          "height": 356
        },
        "id": "m_GBkqapdIJO",
        "outputId": "19e3ccf3-f15e-4c77-ed9d-4f9dcd283d01"
      },
      "outputs": [
              {
                "output_type": "error",
                "ename": "FileNotFoundError",
                "evalue": "[Errno 2] No such file or directory: '/content/Wimbledon_featured_matches.csv'",
                "traceback": [
                  "\u001b[0;31m---------------------------------------------------------------------------\u001b[0m",
                  "\u001b[0;31mFileNotFoundError\u001b[0m                         Traceback (most recent call last)",
                  "\u001b[0;32m<ipython-input-5-457885425185>\u001b[0m in \u001b[0;36m<cell line: 0>\u001b[0;34m()\u001b[0m\n\u001b[1;32m      1\u001b[0m \u001b[0mfile_path\u001b[0m \u001b[0;34m=\u001b[0m \u001b[0;34m\"/content/Wimbledon_featured_matches.csv\"\u001b[0m\u001b[0;34m\u001b[0m\u001b[0;34m\u001b[0m\u001b[0m\n\u001b[0;32m----> 2\u001b[0;31m \u001b[0mdf\u001b[0m \u001b[0;34m=\u001b[0m \u001b[0mpd\u001b[0m\u001b[0;34m.\u001b[0m\u001b[0mread_csv\u001b[0m\u001b[0;34m(\u001b[0m\u001b[0mfile_path\u001b[0m\u001b[0;34m)\u001b[0m\u001b[0;34m\u001b[0m\u001b[0;34m\u001b[0m\u001b[0m\n\u001b[0m\u001b[1;32m      3\u001b[0m \u001b[0;34m\u001b[0m\u001b[0m\n\u001b[1;32m      4\u001b[0m \u001b[0;31m# Vẽ biểu đồ boxplot để phát hiện và lọc outlier\u001b[0m\u001b[0;34m\u001b[0m\u001b[0;34m\u001b[0m\u001b[0m\n\u001b[1;32m      5\u001b[0m \u001b[0;31m# Danh sách các cột cần kiểm tra outlier\u001b[0m\u001b[0;34m\u001b[0m\u001b[0;34m\u001b[0m\u001b[0m\n",
                  "\u001b[0;32m/usr/local/lib/python3.11/dist-packages/pandas/io/parsers/readers.py\u001b[0m in \u001b[0;36mread_csv\u001b[0;34m(filepath_or_buffer, sep, delimiter, header, names, index_col, usecols, dtype, engine, converters, true_values, false_values, skipinitialspace, skiprows, skipfooter, nrows, na_values, keep_default_na, na_filter, verbose, skip_blank_lines, parse_dates, infer_datetime_format, keep_date_col, date_parser, date_format, dayfirst, cache_dates, iterator, chunksize, compression, thousands, decimal, lineterminator, quotechar, quoting, doublequote, escapechar, comment, encoding, encoding_errors, dialect, on_bad_lines, delim_whitespace, low_memory, memory_map, float_precision, storage_options, dtype_backend)\u001b[0m\n\u001b[1;32m   1024\u001b[0m     \u001b[0mkwds\u001b[0m\u001b[0;34m.\u001b[0m\u001b[0mupdate\u001b[0m\u001b[0;34m(\u001b[0m\u001b[0mkwds_defaults\u001b[0m\u001b[0;34m)\u001b[0m\u001b[0;34m\u001b[0m\u001b[0;34m\u001b[0m\u001b[0m\n\u001b[1;32m   1025\u001b[0m \u001b[0;34m\u001b[0m\u001b[0m\n\u001b[0;32m-> 1026\u001b[0;31m     \u001b[0;32mreturn\u001b[0m \u001b[0m_read\u001b[0m\u001b[0;34m(\u001b[0m\u001b[0mfilepath_or_buffer\u001b[0m\u001b[0;34m,\u001b[0m \u001b[0mkwds\u001b[0m\u001b[0;34m)\u001b[0m\u001b[0;34m\u001b[0m\u001b[0;34m\u001b[0m\u001b[0m\n\u001b[0m\u001b[1;32m   1027\u001b[0m \u001b[0;34m\u001b[0m\u001b[0m\n\u001b[1;32m   1028\u001b[0m \u001b[0;34m\u001b[0m\u001b[0m\n",
                  "\u001b[0;32m/usr/local/lib/python3.11/dist-packages/pandas/io/parsers/readers.py\u001b[0m in \u001b[0;36m_read\u001b[0;34m(filepath_or_buffer, kwds)\u001b[0m\n\u001b[1;32m    618\u001b[0m \u001b[0;34m\u001b[0m\u001b[0m\n\u001b[1;32m    619\u001b[0m     \u001b[0;31m# Create the parser.\u001b[0m\u001b[0;34m\u001b[0m\u001b[0;34m\u001b[0m\u001b[0m\n\u001b[0;32m--> 620\u001b[0;31m     \u001b[0mparser\u001b[0m \u001b[0;34m=\u001b[0m \u001b[0mTextFileReader\u001b[0m\u001b[0;34m(\u001b[0m\u001b[0mfilepath_or_buffer\u001b[0m\u001b[0;34m,\u001b[0m \u001b[0;34m**\u001b[0m\u001b[0mkwds\u001b[0m\u001b[0;34m)\u001b[0m\u001b[0;34m\u001b[0m\u001b[0;34m\u001b[0m\u001b[0m\n\u001b[0m\u001b[1;32m    621\u001b[0m \u001b[0;34m\u001b[0m\u001b[0m\n\u001b[1;32m    622\u001b[0m     \u001b[0;32mif\u001b[0m \u001b[0mchunksize\u001b[0m \u001b[0;32mor\u001b[0m \u001b[0miterator\u001b[0m\u001b[0;34m:\u001b[0m\u001b[0;34m\u001b[0m\u001b[0;34m\u001b[0m\u001b[0m\n",
                  "\u001b[0;32m/usr/local/lib/python3.11/dist-packages/pandas/io/parsers/readers.py\u001b[0m in \u001b[0;36m__init__\u001b[0;34m(self, f, engine, **kwds)\u001b[0m\n\u001b[1;32m   1618\u001b[0m \u001b[0;34m\u001b[0m\u001b[0m\n\u001b[1;32m   1619\u001b[0m         \u001b[0mself\u001b[0m\u001b[0;34m.\u001b[0m\u001b[0mhandles\u001b[0m\u001b[0;34m:\u001b[0m \u001b[0mIOHandles\u001b[0m \u001b[0;34m|\u001b[0m \u001b[0;32mNone\u001b[0m \u001b[0;34m=\u001b[0m \u001b[0;32mNone\u001b[0m\u001b[0;34m\u001b[0m\u001b[0;34m\u001b[0m\u001b[0m\n\u001b[0;32m-> 1620\u001b[0;31m         \u001b[0mself\u001b[0m\u001b[0;34m.\u001b[0m\u001b[0m_engine\u001b[0m \u001b[0;34m=\u001b[0m \u001b[0mself\u001b[0m\u001b[0;34m.\u001b[0m\u001b[0m_make_engine\u001b[0m\u001b[0;34m(\u001b[0m\u001b[0mf\u001b[0m\u001b[0;34m,\u001b[0m \u001b[0mself\u001b[0m\u001b[0;34m.\u001b[0m\u001b[0mengine\u001b[0m\u001b[0;34m)\u001b[0m\u001b[0;34m\u001b[0m\u001b[0;34m\u001b[0m\u001b[0m\n\u001b[0m\u001b[1;32m   1621\u001b[0m \u001b[0;34m\u001b[0m\u001b[0m\n\u001b[1;32m   1622\u001b[0m     \u001b[0;32mdef\u001b[0m \u001b[0mclose\u001b[0m\u001b[0;34m(\u001b[0m\u001b[0mself\u001b[0m\u001b[0;34m)\u001b[0m \u001b[0;34m->\u001b[0m \u001b[0;32mNone\u001b[0m\u001b[0;34m:\u001b[0m\u001b[0;34m\u001b[0m\u001b[0;34m\u001b[0m\u001b[0m\n",
                  "\u001b[0;32m/usr/local/lib/python3.11/dist-packages/pandas/io/parsers/readers.py\u001b[0m in \u001b[0;36m_make_engine\u001b[0;34m(self, f, engine)\u001b[0m\n\u001b[1;32m   1878\u001b[0m                 \u001b[0;32mif\u001b[0m \u001b[0;34m\"b\"\u001b[0m \u001b[0;32mnot\u001b[0m \u001b[0;32min\u001b[0m \u001b[0mmode\u001b[0m\u001b[0;34m:\u001b[0m\u001b[0;34m\u001b[0m\u001b[0;34m\u001b[0m\u001b[0m\n\u001b[1;32m   1879\u001b[0m                     \u001b[0mmode\u001b[0m \u001b[0;34m+=\u001b[0m \u001b[0;34m\"b\"\u001b[0m\u001b[0;34m\u001b[0m\u001b[0;34m\u001b[0m\u001b[0m\n\u001b[0;32m-> 1880\u001b[0;31m             self.handles = get_handle(\n\u001b[0m\u001b[1;32m   1881\u001b[0m                 \u001b[0mf\u001b[0m\u001b[0;34m,\u001b[0m\u001b[0;34m\u001b[0m\u001b[0;34m\u001b[0m\u001b[0m\n\u001b[1;32m   1882\u001b[0m                 \u001b[0mmode\u001b[0m\u001b[0;34m,\u001b[0m\u001b[0;34m\u001b[0m\u001b[0;34m\u001b[0m\u001b[0m\n",
                  "\u001b[0;32m/usr/local/lib/python3.11/dist-packages/pandas/io/common.py\u001b[0m in \u001b[0;36mget_handle\u001b[0;34m(path_or_buf, mode, encoding, compression, memory_map, is_text, errors, storage_options)\u001b[0m\n\u001b[1;32m    871\u001b[0m         \u001b[0;32mif\u001b[0m \u001b[0mioargs\u001b[0m\u001b[0;34m.\u001b[0m\u001b[0mencoding\u001b[0m \u001b[0;32mand\u001b[0m \u001b[0;34m\"b\"\u001b[0m \u001b[0;32mnot\u001b[0m \u001b[0;32min\u001b[0m \u001b[0mioargs\u001b[0m\u001b[0;34m.\u001b[0m\u001b[0mmode\u001b[0m\u001b[0;34m:\u001b[0m\u001b[0;34m\u001b[0m\u001b[0;34m\u001b[0m\u001b[0m\n\u001b[1;32m    872\u001b[0m             \u001b[0;31m# Encoding\u001b[0m\u001b[0;34m\u001b[0m\u001b[0;34m\u001b[0m\u001b[0m\n\u001b[0;32m--> 873\u001b[0;31m             handle = open(\n\u001b[0m\u001b[1;32m    874\u001b[0m                 \u001b[0mhandle\u001b[0m\u001b[0;34m,\u001b[0m\u001b[0;34m\u001b[0m\u001b[0;34m\u001b[0m\u001b[0m\n\u001b[1;32m    875\u001b[0m                 \u001b[0mioargs\u001b[0m\u001b[0;34m.\u001b[0m\u001b[0mmode\u001b[0m\u001b[0;34m,\u001b[0m\u001b[0;34m\u001b[0m\u001b[0;34m\u001b[0m\u001b[0m\n",
                  "\u001b[0;31mFileNotFoundError\u001b[0m: [Errno 2] No such file or directory: '/content/Wimbledon_featured_matches.csv'"
                ]
              }
            ],
     
      "source": [
        "file_path = \"/content/Wimbledon_featured_matches.csv\"\n",
        "df = pd.read_csv(file_path)\n",
        "\n",
        "# Vẽ biểu đồ boxplot để phát hiện và lọc outlier\n",
        "# Danh sách các cột cần kiểm tra outlier\n",
        "columns_to_analyze = [\"p1_distance_run\", \"p2_distance_run\", \"rally_count\", \"speed_mph\"]\n",
        "# Tạo thư mục để lưu các hình ảnh boxplot\n",
        "output_dir = \"/content/boxplot_images\"\n",
        "if not os.path.exists(output_dir):\n",
        "    os.makedirs(output_dir)\n",
        "\n",
        "# Vẽ boxplot và lưu hình ảnh\n",
        "for var in columns_to_analyze:\n",
        "    sns.boxplot(x=df[var], color=\"darkorange\")  # Màu cam cho boxplot\n",
        "    plt.title(f\"Boxplot of {var}\", fontsize=14)  # Tiêu đề boxplot\n",
        "    plt.xlabel(var, fontsize=12)\n",
        "    plt.grid(axis=\"x\", linestyle=\"--\", alpha=0.6)  # Thêm lưới để dễ quan sát\n",
        "    plt.savefig(f\"{output_dir}/{var}_boxplot.png\")  # Lưu hình ảnh vào thư mục\n",
        "    plt.close()\n",
        "\n",
        "print(f\"Biểu đồ boxplot đã được lưu vào thư mục: {output_dir}\")\n",
        "\n",
        "# 6. Lọc các giá trị ngoại lai (outlier)\n",
        "# Giữ lại các hàng với điều kiện lọc outlier cho từng cột\n",
        "df = df[\n",
        "    (df['p1_distance_run'] <= 100) &\n",
        "    (df['p2_distance_run'] <= 100) &\n",
        "    (df['rally_count'] <= 20) &\n",
        "    (df['speed_mph'] >= 80)\n",
        "]\n",
        "\n",
        "# Tạo thư mục để lưu hình ảnh boxplot sau khi lọc\n",
        "output_dir1 = \"/content/boxplot_images1\"\n",
        "if not os.path.exists(output_dir1):\n",
        "    os.makedirs(output_dir1)\n",
        "\n",
        "# Vẽ lại boxplot và lưu hình ảnh sau khi lọc\n",
        "for var in columns_to_analyze:\n",
        "    sns.boxplot(x=df[var], color=\"darkorange\")  # Màu cam cho boxplot\n",
        "    plt.title(f\"Boxplot of {var} (After Filtering)\", fontsize=14)  # Tiêu đề boxplot\n",
        "    plt.xlabel(var, fontsize=12)  # Nhãn trục x\n",
        "    plt.grid(axis=\"x\", linestyle=\"--\", alpha=0.6)  # Thêm lưới để dễ quan sát\n",
        "    plt.savefig(f\"{output_dir1}/{var}_boxplot.png\")  # Lưu hình ảnh vào thư mục\n",
        "    plt.close()\n",
        "# update lại data vào file mới\n",
        "csv_file_path = '/content/Wimbledon_featured_matches1.csv'\n",
        "df.to_csv(csv_file_path, index=False, encoding='utf-8')\n"
      ]
    },
    {
      "cell_type": "code",
      "execution_count": null,
      "metadata": {
        "colab": {
          "base_uri": "https://localhost:8080/"
        },
        "collapsed": true,
        "id": "LCwsxO6a0KUU",
        "outputId": "86070f66-f8e2-49c5-af58-23143b21d250"
      },
      "outputs": [
        {
          "output_type": "stream",
          "name": "stdout",
          "text": [
            "--- Dữ liệu cuối cùng ---\n",
            "              match_id  Ace  Distance_run  Error_rate_of_serve_no.1  \\\n",
            "0  2023-wimbledon-1301    0     -0.394420                       0.0   \n",
            "1  2023-wimbledon-1301    0     -0.394616                       0.0   \n",
            "2  2023-wimbledon-1301    0     -1.213620                       0.0   \n",
            "3  2023-wimbledon-1301    0     -4.852655                       0.0   \n",
            "4  2023-wimbledon-1301    1     -0.065010                       0.0   \n",
            "\n",
            "   Lead_score  Net_pt_won  Rally_count  Server_pt  Speed_mph  Game_victor  \\\n",
            "0   -0.053137   -0.290596    -0.473250          0  -1.373634            0   \n",
            "1   -0.938331   -0.290596    -0.805702          0   0.430143            0   \n",
            "2   -0.053137   -0.290596     0.191654          0   0.586993            0   \n",
            "3   -0.938331   -0.290596     3.183722          0   1.371244            0   \n",
            "4   -0.053137   -0.290596    -0.805702          0  -0.040407            0   \n",
            "\n",
            "   Break_Point  Return_depth_D  Return_depth_ND  Serve_depth_CTL  \\\n",
            "0            0               0                1                0   \n",
            "1            0               0                1                1   \n",
            "2            0               1                0                0   \n",
            "3            0               1                0                1   \n",
            "4            0               0                0                0   \n",
            "\n",
            "   Serve_depth_NCTL  Serve_width_B  Serve_width_BC  Serve_width_BW  \\\n",
            "0                 1              0               1               0   \n",
            "1                 0              1               0               0   \n",
            "2                 1              1               0               0   \n",
            "3                 0              0               0               1   \n",
            "4                 1              0               0               0   \n",
            "\n",
            "   Serve_width_C  Serve_width_W  \n",
            "0              0              0  \n",
            "1              0              0  \n",
            "2              0              0  \n",
            "3              0              0  \n",
            "4              0              1  \n"
          ]
        },
        {
          "output_type": "stream",
          "name": "stderr",
          "text": [
            "<ipython-input-12-a758c1d8840b>:46: FutureWarning: Downcasting behavior in `replace` is deprecated and will be removed in a future version. To retain the old behavior, explicitly call `result.infer_objects(copy=False)`. To opt-in to the future behavior, set `pd.set_option('future.no_silent_downcasting', True)`\n",
            "  data = data.replace({True: 1, False: 0})\n",
            "<ipython-input-12-a758c1d8840b>:55: FutureWarning: Downcasting behavior in `replace` is deprecated and will be removed in a future version. To retain the old behavior, explicitly call `result.infer_objects(copy=False)`. To opt-in to the future behavior, set `pd.set_option('future.no_silent_downcasting', True)`\n",
            "  data = data.replace({True: 1, False: 0})\n"
          ]
        }
      ],
      "source": [
        "# 1. Đọc tệp dữ liệu\n",
        "file_path = '/content/Wimbledon_featured_matches1.csv'  # Thay bằng đường dẫn chính xác\n",
        "raw_data = pd.read_csv(file_path)\n",
        "\n",
        "# 2. Xử lý các giá trị chuỗi trong p1_score và p2_score\n",
        "def convert_score_to_numeric(score):\n",
        "    try:\n",
        "        return float(score)\n",
        "    except ValueError:\n",
        "        return 50  # Chuyển giá trị \"AD\" hoặc bất kỳ chuỗi nào khác thành 50\n",
        "\n",
        "raw_data['p1_score'] = raw_data['p1_score'].apply(convert_score_to_numeric)\n",
        "raw_data['p2_score'] = raw_data['p2_score'].apply(convert_score_to_numeric)\n",
        "\n",
        "# 3. Tạo các biến mới theo bảng đã cung cấp\n",
        "def process_data(data):\n",
        "    # 3.1 Ace (giữ nguyên)\n",
        "    data['Ace'] = data['p1_ace']\n",
        "\n",
        "    # 3.2 Distance_run\n",
        "    data['Distance_run'] = data['p1_distance_run'] - data['p2_distance_run']\n",
        "\n",
        "    # 3.3 Error_rate_of_serve_no.1 (rolling window = 3)\n",
        "    data['Error_rate_of_serve_no.1'] = data['p1_double_fault'].rolling(window=3, min_periods=1).mean()\n",
        "\n",
        "    # 3.4 Lead_score\n",
        "    data['Lead_score'] = data['p1_score'] - data['p2_score']\n",
        "\n",
        "    # 3.5 Net_pt_won\n",
        "    data['Net_pt_won'] = data['p1_net_pt_won']\n",
        "\n",
        "    # 3.6 Rally_count\n",
        "    data['Rally_count'] = data['rally_count'] * data['server'].apply(lambda x: -1 if x == 'p2' else 1)\n",
        "\n",
        "    # 3.7 Server_pt\n",
        "    data['Server_pt'] = data['server'].apply(lambda x: 1 if x == 'p1' else 0)\n",
        "\n",
        "    # 3.8 Speed_mph\n",
        "    data['Speed_mph'] = data['speed_mph'].fillna(data['speed_mph'].mean())\n",
        "\n",
        "    # 3.9 Return_depth (One-Hot Encoding)\n",
        "    return_depth_dummies = pd.get_dummies(data['return_depth'], prefix='Return_depth')\n",
        "    data = pd.concat([data, return_depth_dummies], axis=1)\n",
        "\n",
        "    # Chuyển TRUE/FALSE của One-Hot Encoding thành 0/1\n",
        "    data = data.replace({True: 1, False: 0})\n",
        "\n",
        "    # 3.10 Serve_depth (One-Hot Encoding)\n",
        "    serve_depth_dummies = pd.get_dummies(data['serve_depth'], prefix='Serve_depth')\n",
        "    data = pd.concat([data, serve_depth_dummies], axis=1)\n",
        "\n",
        "    # 3.11 Serve_width (One-Hot Encoding)\n",
        "    serve_width_dummies = pd.get_dummies(data['serve_width'], prefix='Serve_width')\n",
        "    data = pd.concat([data, serve_width_dummies], axis=1)\n",
        "    data = data.replace({True: 1, False: 0})\n",
        "\n",
        "\n",
        "   # 3.13 Game_victor\n",
        "    data['Game_victor'] = data['game_victor']\n",
        "\n",
        "    # 3.14 Break Point\n",
        "    data['Break_Point'] = data['p1_break_pt']\n",
        "\n",
        "    return data\n",
        "\n",
        "# Xử lý dữ liệu\n",
        "processed_data = process_data(raw_data)\n",
        "\n",
        "# 4. Chuẩn hóa các biến liên tục\n",
        "continuous_columns = [\n",
        "    'Distance_run', 'Error_rate_of_serve_no.1', 'Lead_score', 'Net_pt_won',\n",
        "    'Rally_count', 'Speed_mph'\n",
        "]\n",
        "scaler = StandardScaler()\n",
        "processed_data[continuous_columns] = scaler.fit_transform(processed_data[continuous_columns])\n",
        "\n",
        "# 5. Lưu dữ liệu đã xử lý vào DataFrame mới\n",
        "final_columns = ['match_id',\n",
        "    'Ace', 'Distance_run', 'Error_rate_of_serve_no.1', 'Lead_score',\n",
        "    'Net_pt_won', 'Rally_count', 'Server_pt', 'Speed_mph',\n",
        "     'Game_victor', 'Break_Point'\n",
        "] + list(processed_data.filter(regex='^Return_depth_').columns) + list(processed_data.filter(regex='^Serve_depth_').columns) + list(processed_data.filter(regex='^Serve_width_').columns)\n",
        "\n",
        "final_data = processed_data[final_columns]\n",
        "\n",
        "# Hiển thị dữ liệu cuối cùng\n",
        "print(\"--- Dữ liệu cuối cùng ---\")\n",
        "print(final_data.head())\n"
      ]
    },
    {
      "cell_type": "markdown",
      "source": [
        "Để trích xuất các feature có các giá trị tốt hơn cho mô hình ta để ý một số điều sau\n",
        "1. Speed_mph có giá trị hơi lệch phải cũng như có mối quan hệ phi tuyến với momentum mà ta đang cần tìm. Lí do đơn giản vì tốc độ di chuyển nhanh không có nghĩa momentum đang cao , có khi còn ngược lại. Vì thế để làm mượt hơn mối quan hệ giữa momentum và spees_mph ,chúng em đã dùng kĩ thuật Log Transformation để giải quyết.\n",
        "2. Chúng em nhận thấy mối quan hệ:\n",
        "\n",
        "*   Rally dài với tốc độ thấp → trận đấu kéo dài (chiến thuật phòng thủ).\n",
        "*   Rally ngắn với tốc độ cao → điểm nhanh (chiến thuật tấn công).\n",
        "Do vậy, tụi em đã biểu diễn mối quan hệ đó bằng cách\n",
        "data['Interaction_Rally_Speed'] = data['Rally_count'] * data['Speed_mph']"
      ],
      "metadata": {
        "id": "vCH_DvSyq3kv"
      }
    }
  ]
}
