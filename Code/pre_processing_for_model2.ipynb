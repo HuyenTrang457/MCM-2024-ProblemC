{
  "cells": [
    {
      "cell_type": "markdown",
      "metadata": {
        "colab_type": "text",
        "id": "view-in-github"
      },
      "source": [
        "<a href=\"https://colab.research.google.com/github/HuyenTrang457/MCM/blob/main/pre_processing_for_model2.ipynb\" target=\"_parent\"><img src=\"https://colab.research.google.com/assets/colab-badge.svg\" alt=\"Open In Colab\"/></a>"
      ]
    },
    {
      "cell_type": "code",
      "execution_count": null,
      "metadata": {
        "id": "Si5BVfv-gBuz"
      },
      "outputs": [],
      "source": [
        "import seaborn as sns\n",
        "import matplotlib.pyplot as plt\n",
        "import os\n",
        "import pandas as pd\n",
        "from sklearn.preprocessing import StandardScaler\n",
        "import numpy as np\n",
        "from sklearn.preprocessing import StandardScaler, OneHotEncoder\n",
        "from sklearn.impute import SimpleImputer\n",
        "import pandas as pd\n",
        "import numpy as np\n",
        "from sklearn.preprocessing import StandardScaler, OneHotEncoder\n",
        "from sklearn.impute import SimpleImputer"
      ]
    },
    {
      "cell_type": "code",
      "execution_count": null,
      "metadata": {
        "id": "U0pVYZRUdSFk"
      },
      "outputs": [],
      "source": [
        "file_path = \"/content/Wimbledon_featured_matches1.csv\"\n",
        "data = pd.read_csv(file_path)\n",
        "# bộ data đã lọc outlier từ pre_preocessing model 1"
      ]
    },
    {
      "cell_type": "code",
      "execution_count": null,
      "metadata": {
        "id": "vgCDkM0aj0D0"
      },
      "outputs": [],
      "source": [
        "# 2. Xử lý các giá trị chuỗi trong p1_score và p2_score\n",
        "def convert_score_to_numeric(score):\n",
        "    try:\n",
        "        return float(score)\n",
        "    except ValueError:\n",
        "        return 50  # Chuyển giá trị \"AD\" hoặc bất kỳ chuỗi nào khác thành 50\n",
        "data['p1_score'] = data['p1_score'].apply(convert_score_to_numeric)\n",
        "data['p2_score'] = data['p2_score'].apply(convert_score_to_numeric)\n",
        "\n"
      ]
    },
    {
      "cell_type": "code",
      "execution_count": null,
      "metadata": {
        "colab": {
          "base_uri": "https://localhost:8080/"
        },
        "id": "jxv9-CqrOwJ6",
        "outputId": "48cbca2d-093d-4d4c-988f-71dddd2e7ed5"
      },
      "outputs": [],
      "source": [
        "# Convert elapsed_time to seconds if column exists\n",
        "def convert_elapsed_time_reset(df):\n",
        "    df['elapsed_time_seconds'] = df['elapsed_time'].apply(lambda row: sum(int(x) * 60 ** i for i, x in enumerate(reversed(row.split(':')))))\n",
        "    return df\n",
        "\n",
        "data = data.groupby('match_id').apply(convert_elapsed_time_reset)\n",
        "data = data.drop(columns=['elapsed_time'])# Feature engineering: differences\n",
        "# Sets difference\n",
        "data['sets_diff'] = data['p1_sets'] - data['p2_sets']\n",
        "\n",
        "# Games difference\n",
        "data['games_diff'] = data['p1_games'] - data['p2_games']\n",
        "\n",
        "# Score difference\n",
        "data['score_diff'] = data['p1_score'] - data['p2_score']\n",
        "\n",
        "# Points won difference\n",
        "data['points_won_diff'] = data['p1_points_won'] - data['p2_points_won']\n",
        "\n",
        "# Ace difference\n",
        "data['ace_diff'] = data['p1_ace'] - data['p2_ace']\n",
        "\n",
        "# Double fault difference\n",
        "data['double_fault_diff'] = data['p1_double_fault'] - data['p2_double_fault']\n",
        "data['distance_diff'] = data['p1_distance_run'] - data['p2_distance_run']\n",
        "\n",
        "# Binary encoding\n",
        "# Server (is player1)\n",
        "data['server_is_p1'] = np.where(data['server'] == 1, 1, 0)\n",
        "\n",
        "# Serve number (first serve)\n",
        "data['first_serve'] = np.where(data['serve_no'] == 1, 1, 0)\n",
        "\n",
        "# Point victor (did player1 win the point?)\n",
        "data['point_victor_p1'] = np.where(data['point_victor'] == 1, 1, 0)\n",
        "\n",
        "# Ratio calculations\n",
        "# Game win ratio\n",
        "data['p1_game_win_ratio'] = data['p1_games'] / (data['p1_games'] + data['p2_games'] + 1e-8)\n",
        "\n",
        "# Set win ratio\n",
        "data['p1_set_win_ratio'] = data['p1_sets'] / (data['p1_sets'] + data['p2_sets'] + 1e-8)\n",
        "\n",
        "# Points won ratio\n",
        "data['p1_point_win_ratio'] = data['p1_points_won'] / (data['p1_points_won'] + data['p2_points_won'] + 1e-8)\n",
        "\n",
        "# Ace ratio\n",
        "data['p1_ace_ratio'] = data['p1_ace'] / (data['p1_ace'] + data['p2_ace'] + 1e-8)\n",
        "\n",
        "# Double fault ratio\n",
        "data['p1_double_fault_ratio'] = data['p1_double_fault'] / (data['p1_double_fault'] + data['p2_double_fault'] + 1e-8)\n",
        "categorical_features = ['server', 'serve_width', 'serve_depth', 'return_depth']\n",
        "columns_to_convert = ['serve_width', 'serve_depth', 'return_depth']\n",
        "data[columns_to_convert] = data[columns_to_convert].applymap(lambda x: 1 if x == \"TRUE\" else 0)\n",
        "# Normalize continuous features\n",
        "\n",
        "\n"
      ]
    },
    {
      "cell_type": "code",
      "execution_count": null,
      "metadata": {
        "colab": {
          "base_uri": "https://localhost:8080/"
        },
        "id": "BGWkEFGbXGiS",
        "outputId": "40f64469-24c2-4ee9-c16d-d0546eb83b2c"
      },
      "outputs": [
        {
          "name": "stdout",
          "output_type": "stream",
          "text": [
            "                                  match_id         player1        player2  \\\n",
            "match_id                                                                    \n",
            "2023-wimbledon-1301 0  2023-wimbledon-1301  Carlos Alcaraz  Nicolas Jarry   \n",
            "                    1  2023-wimbledon-1301  Carlos Alcaraz  Nicolas Jarry   \n",
            "                    2  2023-wimbledon-1301  Carlos Alcaraz  Nicolas Jarry   \n",
            "                    3  2023-wimbledon-1301  Carlos Alcaraz  Nicolas Jarry   \n",
            "                    4  2023-wimbledon-1301  Carlos Alcaraz  Nicolas Jarry   \n",
            "\n",
            "                       set_no  game_no  point_no  p1_sets  p2_sets  p1_games  \\\n",
            "match_id                                                                       \n",
            "2023-wimbledon-1301 0       1        1         1        0        0         0   \n",
            "                    1       1        1         2        0        0         0   \n",
            "                    2       1        1         3        0        0         0   \n",
            "                    3       1        1         4        0        0         0   \n",
            "                    4       1        1         5        0        0         0   \n",
            "\n",
            "                       p2_games  ...  double_fault_diff  distance_diff  \\\n",
            "match_id                         ...                                     \n",
            "2023-wimbledon-1301 0         0  ...                  0         -1.840   \n",
            "                    1         0  ...                  0         -1.841   \n",
            "                    2         0  ...                  0         -6.008   \n",
            "                    3         0  ...                  0        -24.523   \n",
            "                    4         0  ...                  0         -0.164   \n",
            "\n",
            "                       server_is_p1  first_serve  point_victor_p1  \\\n",
            "match_id                                                            \n",
            "2023-wimbledon-1301 0             1            0                0   \n",
            "                    1             1            1                1   \n",
            "                    2             1            1                0   \n",
            "                    3             1            1                1   \n",
            "                    4             1            1                1   \n",
            "\n",
            "                       p1_game_win_ratio  p1_set_win_ratio  \\\n",
            "match_id                                                     \n",
            "2023-wimbledon-1301 0                0.0               0.0   \n",
            "                    1                0.0               0.0   \n",
            "                    2                0.0               0.0   \n",
            "                    3                0.0               0.0   \n",
            "                    4                0.0               0.0   \n",
            "\n",
            "                       p1_point_win_ratio  p1_ace_ratio  p1_double_fault_ratio  \n",
            "match_id                                                                        \n",
            "2023-wimbledon-1301 0            0.000000           0.0                    0.0  \n",
            "                    1            0.500000           0.0                    0.0  \n",
            "                    2            0.333333           0.0                    0.0  \n",
            "                    3            0.500000           0.0                    0.0  \n",
            "                    4            0.600000           1.0                    0.0  \n",
            "\n",
            "[5 rows x 61 columns]\n"
          ]
        }
      ],
      "source": [
        "print(data.head(5))"
      ]
    },
    {
      "cell_type": "code",
      "execution_count": null,
      "metadata": {
        "colab": {
          "base_uri": "https://localhost:8080/"
        },
        "id": "LXU0jD84W-Mk",
        "outputId": "75157ef7-dc28-4c53-a773-061512623ffd"
      },
      "outputs": [
        {
          "name": "stdout",
          "output_type": "stream",
          "text": [
            "Dữ liệu đã được xử lý và lưu thành công!\n"
          ]
        }
      ],
      "source": [
        "continuous_features = [\n",
        "    'score_diff', 'sets_diff', 'games_diff', 'elapsed_time_seconds', 'p1_ace_ratio',\n",
        "    'p1_double_fault_ratio', 'p1_game_win_ratio', 'points_won_diff'\n",
        "]\n",
        "\n",
        "# Handle missing values before scaling\n",
        "imputer = SimpleImputer(strategy='mean')\n",
        "data[continuous_features] = imputer.fit_transform(data[continuous_features])\n",
        "\n",
        "# Standardize continuous features\n",
        "scaler = StandardScaler()\n",
        "data[continuous_features] = scaler.fit_transform(data[continuous_features])\n",
        "\n",
        "\n",
        "# Save processed data\n",
        "data.to_csv('processed_tennis_data_updated.csv', index=False)\n",
        "print(\"Dữ liệu đã được xử lý và lưu thành công!\")"
      ]
    }
  ],
  "metadata": {
    "colab": {
      "include_colab_link": true,
      "provenance": []
    },
    "kernelspec": {
      "display_name": "Python 3",
      "name": "python3"
    },
    "language_info": {
      "name": "python"
    }
  },
  "nbformat": 4,
  "nbformat_minor": 0
}
